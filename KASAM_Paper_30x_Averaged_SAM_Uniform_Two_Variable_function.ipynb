{
 "cells": [
  {
   "cell_type": "code",
   "execution_count": 1,
   "metadata": {},
   "outputs": [
    {
     "name": "stdout",
     "output_type": "stream",
     "text": [
      "TensorFlow version:  2.1.0\n"
     ]
    },
    {
     "data": {
      "image/png": "[encoded data removed]",
      "text/plain": [
       "<Figure size 432x288 with 2 Axes>"
      ]
     },
     "metadata": {
      "needs_background": "light"
     },
     "output_type": "display_data"
    }
   ],
   "source": [
    "# TensorFlow and tf.keras\n",
    "import tensorflow as tf\n",
    "#from tensorflow.keras.layers import *\n",
    "#from tensorflow.keras.models import *\n",
    "from tensorflow import keras\n",
    "from tensorflow.keras import layers\n",
    "from tensorflow.keras import backend as K\n",
    "\n",
    "# Helper libraries\n",
    "import numpy as np\n",
    "import matplotlib as mpl\n",
    "import matplotlib.pyplot as plt\n",
    "\n",
    "\n",
    "# From the tutorial\n",
    "# https://www.machinecurve.com/index.php/2020/02/18/how-to-use-k-fold-cross-validation-with-keras/\n",
    "from tensorflow.keras.datasets import cifar10\n",
    "from tensorflow.keras.models import Sequential\n",
    "from tensorflow.keras.layers import Dense, Flatten, Conv2D, MaxPooling2D\n",
    "from tensorflow.keras.losses import sparse_categorical_crossentropy\n",
    "from tensorflow.keras.optimizers import Adam\n",
    "from sklearn.model_selection import KFold\n",
    "\n",
    "from datetime import datetime\n",
    "from packaging import version\n",
    "\n",
    "print(\"TensorFlow version: \", tf.__version__)\n",
    "assert version.parse(tf.__version__).release[0] >= 2, \\\n",
    "    \"This notebook requires TensorFlow 2.0 or above.\"\n",
    "\n",
    "\n",
    "def s3(x):\n",
    "    \n",
    "    \"Activation function to implement the basis functions\"\n",
    "    \n",
    "    y0 = K.switch(tf.logical_and(tf.zeros(tf.shape(x))<=x, x<tf.ones(tf.shape(x))), \n",
    "                 x**3/6, \n",
    "                 tf.zeros(tf.shape(x))\n",
    "                )\n",
    "    \n",
    "    y1 = K.switch(tf.logical_and(tf.ones(tf.shape(x))<=x, x<2*tf.ones(tf.shape(x))),\n",
    "                 (-3.*(x-1.)**3 +3.*(x-1.)**2 + 3*(x-1.)+1.)/6.,\n",
    "                 tf.zeros(tf.shape(x))\n",
    "                )\n",
    "    \n",
    "    y2 = K.switch(tf.logical_and(tf.ones(tf.shape(x))*2<=x, x<3*tf.ones(tf.shape(x))),\n",
    "                 (3*(x-2)**3 - 6*(x-2)**2 + 4. )/6.,\n",
    "                 tf.zeros(tf.shape(x))\n",
    "                )\n",
    "\n",
    "    y3 = K.switch(tf.logical_and(tf.ones(tf.shape(x))*3<=x, x<4*tf.ones(tf.shape(x))),\n",
    "                 ( 4. -x)**3/6.,\n",
    "                 tf.zeros(tf.shape(x))\n",
    "                )    \n",
    "    \n",
    "    y  = y0 + y1 + y2 + y3\n",
    "    \n",
    "    return y\n",
    "\n",
    "def partition_weights(n,n0):\n",
    "    p0 = n0*n\n",
    "    y = np.zeros((n,p0))\n",
    "    for i in range(n):\n",
    "        y[i,i*n0:(i+1)*n0] = 1.\n",
    "    return y \n",
    "\n",
    "def partition_bias(n,n0):\n",
    "    p0 = n0*n\n",
    "    return (np.arange(0.,p0)%n0)    \n",
    "\n",
    "def spline_function_(n,m,c0,u0):\n",
    "    \"\"\"\n",
    "    Function from [0,1]^n to R^m\n",
    "    n  - Input dimension\n",
    "    m  - output dimension\n",
    "    c0 - the capacity of the network, the number of control points for each input variable is proportional capacity\n",
    "    u0 - the initial value of all control points\n",
    "    \"\"\"\n",
    "    \n",
    "    d0 = 3 \n",
    " \n",
    "    n0 = c0 + d0 # the number of control points; capacity + degree of basis function\n",
    "    p0 = n0*n\n",
    "\n",
    "    w0 = tf.constant_initializer(c0*partition_weights(n,n0))\n",
    "    b0 = tf.constant_initializer(d0 - partition_bias(n,n0))\n",
    "    \n",
    "    w1 = tf.constant_initializer(0.)\n",
    "\n",
    "    inn = tf.keras.layers.Input(shape=(n,))\n",
    "\n",
    "    l00 = tf.keras.layers.Dense(activation=s3,\n",
    "                                units=p0,\n",
    "                                use_bias=True,\n",
    "                                trainable=False,\n",
    "                                kernel_initializer=w0,\n",
    "                                bias_initializer=b0 \n",
    "                               )(inn)          # Modified\n",
    "    \n",
    "    out = tf.keras.layers.Dense(units=m,\n",
    "                                use_bias=False,\n",
    "                                trainable=True,\n",
    "                                kernel_initializer=w1\n",
    "                               )(l00)\n",
    "\n",
    "    model = tf.keras.Model(inputs=inn, \n",
    "                           outputs= out\n",
    "                          )\n",
    "    return model\n",
    "\n",
    "# Target function plot\n",
    "\n",
    "def f(x,y):\n",
    "    v0 = np.cos(4.*np.pi*x)*np.exp(-4*(x-0.5)**2) + np.sin(1.*np.pi*y)\n",
    "    return v0\n",
    "\n",
    "def f2(x,y):\n",
    "    \n",
    "    l0 = np.ones(x.shape)\n",
    "    l1 = np.logical_and((x < 0.55*l0),(0.45*l0 < x ))\n",
    "    l2 = np.logical_and((y < 0.55*l0),(0.45*l0 < y ))\n",
    "    l3 = np.logical_and(l1,l2)\n",
    "    \n",
    "    v0 = f(x,y)*np.logical_not(l3) + 0.*l3\n",
    "    \n",
    "    return v0\n",
    "\n",
    "resolution = 0.01\n",
    "\n",
    "x0 = np.arange(0.,1., resolution)\n",
    "x1 = np.arange(0.,1., resolution)\n",
    "\n",
    "x0, x1 = np.meshgrid(x0, x1)\n",
    "y0 = f(x0,x1)\n",
    "\n",
    "img = plt.imshow(y0, interpolation='none', extent=[0.,1.,0.,1.])\n",
    "#img.set_cmap('hot')\n",
    "img.set_cmap('gist_heat')\n",
    "plt.colorbar()\n",
    "plt.xlabel(r'$x_{1}$')\n",
    "plt.ylabel(r'$x_{2}$')\n",
    "\n",
    "#plt.axis('off')\n",
    "plt.show()\n",
    "\n",
    "coordinates = np.array([x0.flatten(),x1.flatten()]).transpose()"
   ]
  },
  {
   "cell_type": "code",
   "execution_count": null,
   "metadata": {},
   "outputs": [],
   "source": []
  },
  {
   "cell_type": "code",
   "execution_count": 2,
   "metadata": {},
   "outputs": [
    {
     "name": "stderr",
     "output_type": "stream",
     "text": [
      "2022-04-06 17:03:29.787580: I tensorflow/core/platform/cpu_feature_guard.cc:142] Your CPU supports instructions that this TensorFlow binary was not compiled to use: SSE4.1 SSE4.2 AVX AVX2 FMA\n",
      "2022-04-06 17:03:29.792194: I tensorflow/core/platform/profile_utils/cpu_utils.cc:94] CPU Frequency: 2799925000 Hz\n",
      "2022-04-06 17:03:29.792508: I tensorflow/compiler/xla/service/service.cc:168] XLA service 0x5616ed486e10 initialized for platform Host (this does not guarantee that XLA will be used). Devices:\n",
      "2022-04-06 17:03:29.792546: I tensorflow/compiler/xla/service/service.cc:176]   StreamExecutor device (0): Host, Default Version\n",
      "2022-04-06 17:03:29.792624: I tensorflow/core/common_runtime/process_util.cc:147] Creating new thread pool with default inter op setting: 2. Tune using inter_op_parallelism_threads for best performance.\n"
     ]
    },
    {
     "name": "stdout",
     "output_type": "stream",
     "text": [
      "Model: \"model\"\n",
      "_________________________________________________________________\n",
      "Layer (type)                 Output Shape              Param #   \n",
      "=================================================================\n",
      "input_1 (InputLayer)         [(None, 2)]               0         \n",
      "_________________________________________________________________\n",
      "dense (Dense)                (None, 128)               384       \n",
      "_________________________________________________________________\n",
      "dense_1 (Dense)              (None, 1)                 128       \n",
      "=================================================================\n",
      "Total params: 512\n",
      "Trainable params: 128\n",
      "Non-trainable params: 384\n",
      "_________________________________________________________________\n"
     ]
    },
    {
     "data": {
      "image/png": "[encoded data removed]",
      "text/plain": [
       "<Figure size 432x288 with 2 Axes>"
      ]
     },
     "metadata": {
      "needs_background": "light"
     },
     "output_type": "display_data"
    },
    {
     "name": "stdout",
     "output_type": "stream",
     "text": [
      "Train on 10000 samples\n",
      "Epoch 1/15\n",
      "10000/10000 [==============================] - 2s 157us/sample - loss: 0.5661 - mse: 0.5661\n",
      "Epoch 2/15\n",
      "10000/10000 [==============================] - 1s 74us/sample - loss: 0.2845 - mse: 0.2845\n",
      "Epoch 3/15\n",
      "10000/10000 [==============================] - 1s 100us/sample - loss: 0.1396 - mse: 0.1396\n",
      "Epoch 4/15\n",
      "10000/10000 [==============================] - 1s 94us/sample - loss: 0.0662 - mse: 0.0662\n",
      "Epoch 5/15\n",
      "10000/10000 [==============================] - 1s 84us/sample - loss: 0.0303 - mse: 0.0303\n",
      "Epoch 6/15\n",
      "10000/10000 [==============================] - 1s 88us/sample - loss: 0.0133 - mse: 0.0133\n",
      "Epoch 7/15\n",
      "10000/10000 [==============================] - 1s 91us/sample - loss: 0.0055 - mse: 0.0055\n",
      "Epoch 8/15\n",
      "10000/10000 [==============================] - 1s 103us/sample - loss: 0.0021 - mse: 0.0021\n",
      "Epoch 9/15\n",
      "10000/10000 [==============================] - 1s 82us/sample - loss: 7.3699e-04 - mse: 7.3699e-04\n",
      "Epoch 10/15\n",
      "10000/10000 [==============================] - 1s 85us/sample - loss: 2.2732e-04 - mse: 2.2732e-04\n",
      "Epoch 11/15\n",
      "10000/10000 [==============================] - 1s 83us/sample - loss: 6.2000e-05 - mse: 6.2000e-05\n",
      "Epoch 12/15\n",
      "10000/10000 [==============================] - 1s 82us/sample - loss: 1.5612e-05 - mse: 1.5612e-05\n",
      "Epoch 13/15\n",
      "10000/10000 [==============================] - 1s 85us/sample - loss: 4.2446e-06 - mse: 4.2446e-06\n",
      "Epoch 14/15\n",
      "10000/10000 [==============================] - 1s 86us/sample - loss: 1.6335e-06 - mse: 1.6335e-06\n",
      "Epoch 15/15\n",
      "10000/10000 [==============================] - 1s 86us/sample - loss: 9.2206e-07 - mse: 9.2206e-07\n"
     ]
    },
    {
     "data": {
      "image/png": "[encoded data removed]",
      "text/plain": [
       "<Figure size 432x288 with 2 Axes>"
      ]
     },
     "metadata": {
      "needs_background": "light"
     },
     "output_type": "display_data"
    },
    {
     "name": "stdout",
     "output_type": "stream",
     "text": [
      "10000/10000 [==============================] - 1s 97us/sample - loss: 7.9125e-07 - mse: 7.9125e-07\n"
     ]
    },
    {
     "data": {
      "image/png": "[encoded data removed]",
      "text/plain": [
       "<Figure size 432x288 with 2 Axes>"
      ]
     },
     "metadata": {
      "needs_background": "light"
     },
     "output_type": "display_data"
    },
    {
     "name": "stdout",
     "output_type": "stream",
     "text": [
      "Train on 10000 samples\n",
      "Epoch 1/10\n",
      "10000/10000 [==============================] - 1s 88us/sample - loss: 1.0887 - mse: 1.0887\n",
      "Epoch 2/10\n",
      "10000/10000 [==============================] - 1s 91us/sample - loss: 0.0892 - mse: 0.0892\n",
      "Epoch 3/10\n",
      "10000/10000 [==============================] - 1s 85us/sample - loss: 0.0079 - mse: 0.0079\n",
      "Epoch 4/10\n",
      "10000/10000 [==============================] - 1s 103us/sample - loss: 8.3503e-04 - mse: 8.3503e-04\n",
      "Epoch 5/10\n",
      "10000/10000 [==============================] - 1s 90us/sample - loss: 1.7353e-04 - mse: 1.7353e-04\n",
      "Epoch 6/10\n",
      "10000/10000 [==============================] - 1s 87us/sample - loss: 5.7022e-05 - mse: 5.7022e-05\n",
      "Epoch 7/10\n",
      "10000/10000 [==============================] - 1s 98us/sample - loss: 2.6004e-05 - mse: 2.6004e-05\n",
      "Epoch 8/10\n",
      "10000/10000 [==============================] - 1s 88us/sample - loss: 1.5954e-05 - mse: 1.5954e-05\n",
      "Epoch 9/10\n",
      "10000/10000 [==============================] - 1s 93us/sample - loss: 1.1613e-05 - mse: 1.1613e-05\n",
      "Epoch 10/10\n",
      "10000/10000 [==============================] - 1s 87us/sample - loss: 9.1682e-06 - mse: 9.1681e-06\n",
      "10000/10000 [==============================] - 1s 61us/sample - loss: 0.2488 - mse: 0.2488\n"
     ]
    },
    {
     "data": {
      "image/png": "[encoded data removed]",
      "text/plain": [
       "<Figure size 432x288 with 2 Axes>"
      ]
     },
     "metadata": {
      "needs_background": "light"
     },
     "output_type": "display_data"
    }
   ],
   "source": [
    "# Initialise a model\n",
    "\n",
    "##################################################################################\n",
    "# n,m,r,k,u0,h0\n",
    "n   = 2\n",
    "m   = 1\n",
    "c0  = 61\n",
    "u0  = 0.\n",
    "model = spline_function_(n,m,c0,u0)\n",
    "\n",
    "# Print model summary\n",
    "model.summary()\n",
    "##################################################################################\n",
    "\n",
    "output1 = model.predict(coordinates).reshape(100,100)\n",
    "\n",
    "##################################################################################\n",
    "img = plt.imshow(output1, interpolation='none', extent=[0.,1.,0.,1.])\n",
    "img.set_cmap('hot')\n",
    "img.set_cmap('gist_heat')\n",
    "#img.set_cmap('summer')\n",
    "plt.colorbar()\n",
    "plt.xlabel(r'$x_{1}$')\n",
    "plt.ylabel(r'$x_{2}$')\n",
    "\n",
    "#plt.axis('off')\n",
    "plt.show()\n",
    "##################################################################################\n",
    "\n",
    "#########\n",
    "#########\n",
    "#########\n",
    "\n",
    "# Data Generation \n",
    "##################################################################################\n",
    "k = 10000\n",
    "\n",
    "train_inputs = np.random.rand(k,2)\n",
    "z0 = train_inputs[:,0]\n",
    "z1 = train_inputs[:,1]\n",
    "train_output = f(z0,z1)\n",
    "##################################################################################\n",
    "\n",
    "model.compile(optimizer=tf.keras.optimizers.Adam(lr=0.001),\n",
    "              loss=tf.keras.losses.mean_squared_error,metrics=['mse'])\n",
    "\n",
    "model.fit(train_inputs, train_output, epochs=15,verbose=1)\n",
    "\n",
    "output2 = model.predict(coordinates).reshape(100,100)\n",
    "\n",
    "##################################################################################\n",
    "img = plt.imshow(output2, interpolation='none', extent=[0.,1.,0.,1.])\n",
    "img.set_cmap('hot')\n",
    "img.set_cmap('gist_heat')\n",
    "#img.set_cmap('summer')\n",
    "plt.colorbar()\n",
    "plt.xlabel(r'$x_{1}$')\n",
    "plt.ylabel(r'$x_{2}$')\n",
    "\n",
    "#plt.axis('off')\n",
    "plt.show()\n",
    "##################################################################################\n",
    "\n",
    "# Test on second task\n",
    "##################################################################################\n",
    "x_test1 = np.random.rand(k,2)\n",
    "y_test1 = f(x_test1[:,0],x_test1[:,1])\n",
    "results1 = model.evaluate(x_test1, y_test1)\n",
    "##################################################################################\n",
    "\n",
    "##########################\n",
    "########################\n",
    "\n",
    "##################################################################################\n",
    "\n",
    "y_new = y0.copy()\n",
    "y_new[44:55,44:55] = 0.\n",
    "\n",
    "img = plt.imshow(y_new, interpolation='none', extent=[0.,1.,0.,1.])\n",
    "#img.set_cmap('hot')\n",
    "img.set_cmap('gist_heat')\n",
    "plt.colorbar()\n",
    "plt.xlabel(r'$x_{1}$')\n",
    "plt.ylabel(r'$x_{2}$')\n",
    "\n",
    "#plt.axis('off')\n",
    "plt.show()\n",
    "\n",
    "##################################################################################\n",
    "\n",
    "train_inputs_2 = 0.11*np.random.rand(k,2)+0.44\n",
    "train_output_2 = np.ones(k)*0.\n",
    "model.fit(train_inputs_2, train_output_2, epochs=10,verbose=1)\n",
    "\n",
    "##################################################################################\n",
    "\n",
    "# Test on second task\n",
    "##################################################################################\n",
    "x_test2 = np.random.rand(k,2)\n",
    "y_test2 = f2(x_test2[:,0],x_test2[:,1])\n",
    "results2 = model.evaluate(x_test2, y_test2)\n",
    "##################################################################################\n",
    "\n",
    "output3 = model.predict(coordinates).reshape(100,100)\n",
    "\n",
    "##################################################################################\n",
    "img = plt.imshow(output3, interpolation='none', extent=[0.,1.,0.,1.])\n",
    "img.set_cmap('hot')\n",
    "img.set_cmap('gist_heat')\n",
    "#img.set_cmap('summer')\n",
    "plt.colorbar()\n",
    "plt.xlabel(r'$x_{1}$')\n",
    "plt.ylabel(r'$x_{2}$')\n",
    "\n",
    "#plt.axis('off')\n",
    "plt.show()\n",
    "##################################################################################"
   ]
  },
  {
   "cell_type": "code",
   "execution_count": 3,
   "metadata": {},
   "outputs": [
    {
     "name": "stdout",
     "output_type": "stream",
     "text": [
      "eval\n",
      "10000/10000 [==============================] - 1s 90us/sample - loss: 1.3649e-06 - mse: 1.3649e-06\n",
      "evaluation\n",
      "10000/10000 [==============================] - 1s 67us/sample - loss: 0.2543 - mse: 0.2543\n",
      "eval\n",
      "10000/10000 [==============================] - 1s 95us/sample - loss: 8.1404e-07 - mse: 8.1404e-07\n",
      "evaluation\n",
      "10000/10000 [==============================] - 1s 81us/sample - loss: 0.2632 - mse: 0.2632\n",
      "eval\n",
      "10000/10000 [==============================] - 1s 100us/sample - loss: 7.1930e-07 - mse: 7.1930e-07\n",
      "evaluation\n",
      "10000/10000 [==============================] - 1s 66us/sample - loss: 0.2741 - mse: 0.2741\n",
      "eval\n",
      "10000/10000 [==============================] - 1s 106us/sample - loss: 3.2400e-07 - mse: 3.2400e-07\n",
      "evaluation\n",
      "10000/10000 [==============================] - 1s 70us/sample - loss: 0.2713 - mse: 0.2713\n",
      "eval\n",
      "10000/10000 [==============================] - 1s 113us/sample - loss: 3.0923e-07 - mse: 3.0923e-07\n",
      "evaluation\n",
      "10000/10000 [==============================] - 1s 90us/sample - loss: 0.2680 - mse: 0.2680\n",
      "eval\n",
      "10000/10000 [==============================] - 1s 120us/sample - loss: 4.5550e-07 - mse: 4.5550e-07\n",
      "evaluation\n",
      "10000/10000 [==============================] - 1s 74us/sample - loss: 0.2686 - mse: 0.2686\n",
      "eval\n",
      "10000/10000 [==============================] - 1s 102us/sample - loss: 7.9702e-07 - mse: 7.9702e-07\n",
      "evaluation\n",
      "10000/10000 [==============================] - 1s 80us/sample - loss: 0.2747 - mse: 0.2747\n",
      "eval\n",
      "10000/10000 [==============================] - 1s 103us/sample - loss: 9.2029e-07 - mse: 9.2029e-07\n",
      "evaluation\n",
      "10000/10000 [==============================] - 1s 65us/sample - loss: 0.2665 - mse: 0.2665\n",
      "eval\n",
      "10000/10000 [==============================] - 1s 101us/sample - loss: 2.2849e-07 - mse: 2.2849e-07\n",
      "evaluation\n",
      "10000/10000 [==============================] - 1s 77us/sample - loss: 0.2757 - mse: 0.2757\n",
      "eval\n",
      "10000/10000 [==============================] - 1s 104us/sample - loss: 2.5946e-07 - mse: 2.5946e-07\n",
      "evaluation\n",
      "10000/10000 [==============================] - 1s 76us/sample - loss: 0.2797 - mse: 0.2797\n",
      "eval\n",
      "10000/10000 [==============================] - 1s 104us/sample - loss: 8.3884e-07 - mse: 8.3884e-07\n",
      "evaluation\n",
      "10000/10000 [==============================] - 1s 83us/sample - loss: 0.2689 - mse: 0.2689\n",
      "eval\n",
      "10000/10000 [==============================] - 1s 104us/sample - loss: 9.1719e-07 - mse: 9.1719e-07\n",
      "evaluation\n",
      "10000/10000 [==============================] - 1s 71us/sample - loss: 0.2717 - mse: 0.2717\n",
      "eval\n",
      "10000/10000 [==============================] - 1s 101us/sample - loss: 5.7425e-07 - mse: 5.7425e-07\n",
      "evaluation\n",
      "10000/10000 [==============================] - 1s 78us/sample - loss: 0.2724 - mse: 0.2724\n",
      "eval\n",
      "10000/10000 [==============================] - 1s 108us/sample - loss: 8.3347e-07 - mse: 8.3347e-07\n",
      "evaluation\n",
      "10000/10000 [==============================] - 1s 81us/sample - loss: 0.2722 - mse: 0.2722\n",
      "eval\n",
      "10000/10000 [==============================] - 1s 89us/sample - loss: 6.8752e-07 - mse: 6.8752e-07\n",
      "evaluation\n",
      "10000/10000 [==============================] - 1s 62us/sample - loss: 0.2719 - mse: 0.2719\n",
      "eval\n",
      "10000/10000 [==============================] - 1s 93us/sample - loss: 3.9177e-07 - mse: 3.9177e-07\n",
      "evaluation\n",
      "10000/10000 [==============================] - 1s 78us/sample - loss: 0.2682 - mse: 0.2682\n",
      "eval\n",
      "10000/10000 [==============================] - 1s 104us/sample - loss: 3.0046e-07 - mse: 3.0046e-07\n",
      "evaluation\n",
      "10000/10000 [==============================] - 1s 77us/sample - loss: 0.2724 - mse: 0.2724\n",
      "eval\n",
      "10000/10000 [==============================] - 1s 114us/sample - loss: 8.8310e-07 - mse: 8.8310e-07\n",
      "evaluation\n",
      "10000/10000 [==============================] - 1s 77us/sample - loss: 0.2699 - mse: 0.2699\n",
      "eval\n",
      "10000/10000 [==============================] - 1s 117us/sample - loss: 1.2749e-06 - mse: 1.2749e-06\n",
      "evaluation\n",
      "10000/10000 [==============================] - 1s 82us/sample - loss: 0.2757 - mse: 0.2757\n",
      "eval\n",
      "10000/10000 [==============================] - 1s 95us/sample - loss: 4.5653e-07 - mse: 4.5653e-07\n",
      "evaluation\n",
      "10000/10000 [==============================] - 1s 70us/sample - loss: 0.2760 - mse: 0.2760\n",
      "eval\n",
      "10000/10000 [==============================] - 1s 111us/sample - loss: 2.3606e-07 - mse: 2.3606e-07\n",
      "evaluation\n",
      "10000/10000 [==============================] - 1s 74us/sample - loss: 0.2732 - mse: 0.2732\n",
      "eval\n",
      "10000/10000 [==============================] - 1s 116us/sample - loss: 4.0529e-08 - mse: 4.0529e-08\n",
      "evaluation\n",
      "10000/10000 [==============================] - 1s 86us/sample - loss: 0.2657 - mse: 0.2657\n",
      "eval\n",
      "10000/10000 [==============================] - 1s 95us/sample - loss: 1.3943e-07 - mse: 1.3943e-07\n",
      "evaluation\n",
      "10000/10000 [==============================] - 1s 63us/sample - loss: 0.2759 - mse: 0.2759\n",
      "eval\n",
      "10000/10000 [==============================] - 1s 106us/sample - loss: 1.5028e-06 - mse: 1.5028e-06\n",
      "evaluation\n",
      "10000/10000 [==============================] - 1s 67us/sample - loss: 0.2748 - mse: 0.2748\n",
      "eval\n",
      "10000/10000 [==============================] - 1s 106us/sample - loss: 1.2996e-07 - mse: 1.2996e-07\n",
      "evaluation\n",
      "10000/10000 [==============================] - 1s 83us/sample - loss: 0.2726 - mse: 0.2726\n",
      "eval\n",
      "10000/10000 [==============================] - 1s 104us/sample - loss: 6.4829e-07 - mse: 6.4829e-07\n",
      "evaluation\n",
      "10000/10000 [==============================] - 1s 91us/sample - loss: 0.2722 - mse: 0.2722\n",
      "eval\n",
      "10000/10000 [==============================] - 1s 103us/sample - loss: 1.1048e-06 - mse: 1.1048e-06\n",
      "evaluation\n",
      "10000/10000 [==============================] - 1s 71us/sample - loss: 0.2642 - mse: 0.2642\n",
      "eval\n",
      "10000/10000 [==============================] - 1s 98us/sample - loss: 1.1944e-06 - mse: 1.1944e-06\n",
      "evaluation\n",
      "10000/10000 [==============================] - 1s 73us/sample - loss: 0.2723 - mse: 0.2723\n",
      "eval\n",
      "10000/10000 [==============================] - 1s 101us/sample - loss: 3.1901e-06 - mse: 3.1901e-06\n",
      "evaluation\n",
      "10000/10000 [==============================] - 1s 124us/sample - loss: 0.2703 - mse: 0.2703\n",
      "eval\n",
      "10000/10000 [==============================] - 1s 90us/sample - loss: 6.3556e-07 - mse: 6.3556e-07\n",
      "evaluation\n",
      "10000/10000 [==============================] - 1s 67us/sample - loss: 0.2686 - mse: 0.2686\n"
     ]
    }
   ],
   "source": [
    "task_1_results = []\n",
    "task_2_results = []\n",
    "\n",
    "for i in range(0,30):\n",
    "    # Initialise a model\n",
    "\n",
    "    ##################################################################################\n",
    "    # n,m,r,k,u0,h0\n",
    "    n   = 2\n",
    "    m   = 1\n",
    "    c0  = 61\n",
    "    u0  = 0.\n",
    "    model = spline_function_(n,m,c0,u0)\n",
    "\n",
    "    output1 = model.predict(coordinates).reshape(100,100)\n",
    "\n",
    "    # Data Generation \n",
    "    ##################################################################################\n",
    "    k = 10000\n",
    "\n",
    "    train_inputs = np.random.rand(k,2)\n",
    "    z0 = train_inputs[:,0]\n",
    "    z1 = train_inputs[:,1]\n",
    "    train_output = f(z0,z1)\n",
    "\n",
    "    ##################################################################################\n",
    "\n",
    "    model.compile(optimizer=tf.keras.optimizers.Adam(lr=0.001),\n",
    "                  loss=tf.keras.losses.mean_squared_error,metrics=['mse'])\n",
    "\n",
    "    model.fit(train_inputs, train_output, epochs=50,verbose=0)\n",
    "\n",
    "    output2 = model.predict(coordinates).reshape(100,100)\n",
    "\n",
    "    # Test on second task\n",
    "    ##################################################################################\n",
    "    x_test1 = np.random.rand(k,2)\n",
    "    y_test1 = f(x_test1[:,0],x_test1[:,1])\n",
    "    print(\"eval\")\n",
    "    results1 = model.evaluate(x_test1, y_test1)\n",
    "\n",
    "    task_1_results.append(results1[-1])\n",
    "    ##################################################################################\n",
    "\n",
    "    y_new = y0.copy()\n",
    "    y_new[44:55,44:55] = 0.\n",
    "\n",
    "    ##################################################################################\n",
    "\n",
    "    train_inputs_2 = 0.11*np.random.rand(k,2)+0.44\n",
    "    train_output_2 = np.ones(k)*0.\n",
    "    model.fit(train_inputs_2, train_output_2, epochs=10,verbose=0)\n",
    "\n",
    "    ##################################################################################\n",
    "\n",
    "    # Test on second task\n",
    "    ##################################################################################\n",
    "    x_test2 = np.random.rand(k,2)\n",
    "    y_test2 = f2(x_test2[:,0],x_test2[:,1])\n",
    "    print(\"evaluation\")\n",
    "    results2 = model.evaluate(x_test2, y_test2)\n",
    "\n",
    "    task_2_results.append(results2[-1])\n",
    "    ##################################################################################\n",
    "\n",
    "    output3 = model.predict(coordinates).reshape(100,100)\n",
    "\n",
    "    ##################################################################################"
   ]
  },
  {
   "cell_type": "code",
   "execution_count": 6,
   "metadata": {},
   "outputs": [
    {
     "data": {
      "text/plain": [
       "[1.3648972e-06,\n",
       " 8.140373e-07,\n",
       " 7.193033e-07,\n",
       " 3.2400064e-07,\n",
       " 3.0922845e-07,\n",
       " 4.5550334e-07,\n",
       " 7.970159e-07,\n",
       " 9.2029285e-07,\n",
       " 2.2849137e-07,\n",
       " 2.5946136e-07,\n",
       " 8.388436e-07,\n",
       " 9.171911e-07,\n",
       " 5.7425393e-07,\n",
       " 8.334729e-07,\n",
       " 6.875174e-07,\n",
       " 3.9176905e-07,\n",
       " 3.0045663e-07,\n",
       " 8.8309946e-07,\n",
       " 1.274857e-06,\n",
       " 4.565259e-07,\n",
       " 2.3605591e-07,\n",
       " 4.0528818e-08,\n",
       " 1.3942689e-07,\n",
       " 1.5028472e-06,\n",
       " 1.2996483e-07,\n",
       " 6.482906e-07,\n",
       " 1.1047889e-06,\n",
       " 1.1943622e-06,\n",
       " 3.1901388e-06,\n",
       " 6.355555e-07]"
      ]
     },
     "execution_count": 6,
     "metadata": {},
     "output_type": "execute_result"
    }
   ],
   "source": [
    "task_1_results"
   ]
  },
  {
   "cell_type": "code",
   "execution_count": 7,
   "metadata": {},
   "outputs": [
    {
     "data": {
      "text/plain": [
       "[0.25430134,\n",
       " 0.26321068,\n",
       " 0.27413145,\n",
       " 0.27134544,\n",
       " 0.26796234,\n",
       " 0.2685881,\n",
       " 0.27466935,\n",
       " 0.26651436,\n",
       " 0.27572986,\n",
       " 0.27973753,\n",
       " 0.26892778,\n",
       " 0.27167654,\n",
       " 0.27243438,\n",
       " 0.27215108,\n",
       " 0.27187535,\n",
       " 0.26821336,\n",
       " 0.27240968,\n",
       " 0.26994735,\n",
       " 0.275659,\n",
       " 0.2760348,\n",
       " 0.27319187,\n",
       " 0.2657258,\n",
       " 0.27585676,\n",
       " 0.27483726,\n",
       " 0.2725588,\n",
       " 0.27215424,\n",
       " 0.26423183,\n",
       " 0.27227688,\n",
       " 0.27032608,\n",
       " 0.2686248]"
      ]
     },
     "execution_count": 7,
     "metadata": {},
     "output_type": "execute_result"
    }
   ],
   "source": [
    "task_2_results"
   ]
  },
  {
   "cell_type": "code",
   "execution_count": 10,
   "metadata": {},
   "outputs": [
    {
     "data": {
      "text/plain": [
       "7.390726e-07"
      ]
     },
     "execution_count": 10,
     "metadata": {},
     "output_type": "execute_result"
    }
   ],
   "source": [
    "np.array(task_1_results).mean()"
   ]
  },
  {
   "cell_type": "code",
   "execution_count": 12,
   "metadata": {},
   "outputs": [
    {
     "data": {
      "text/plain": [
       "5.934575e-07"
      ]
     },
     "execution_count": 12,
     "metadata": {},
     "output_type": "execute_result"
    }
   ],
   "source": [
    "np.array(task_1_results).std()"
   ]
  },
  {
   "cell_type": "code",
   "execution_count": 14,
   "metadata": {},
   "outputs": [
    {
     "data": {
      "text/plain": [
       "0.27084348"
      ]
     },
     "execution_count": 14,
     "metadata": {},
     "output_type": "execute_result"
    }
   ],
   "source": [
    "np.array(task_2_results).mean()"
   ]
  },
  {
   "cell_type": "code",
   "execution_count": 15,
   "metadata": {},
   "outputs": [
    {
     "data": {
      "text/plain": [
       "0.0047996594"
      ]
     },
     "execution_count": 15,
     "metadata": {},
     "output_type": "execute_result"
    }
   ],
   "source": [
    "np.array(task_2_results).std()"
   ]
  },
  {
   "cell_type": "code",
   "execution_count": 18,
   "metadata": {},
   "outputs": [
    {
     "data": {
      "text/plain": [
       "2.303673e-05"
      ]
     },
     "execution_count": 18,
     "metadata": {},
     "output_type": "execute_result"
    }
   ],
   "source": [
    "np.array(task_2_results).var()"
   ]
  },
  {
   "cell_type": "code",
   "execution_count": null,
   "metadata": {},
   "outputs": [],
   "source": []
  }
 ],
 "metadata": {
  "kernelspec": {
   "display_name": "Python 3 (ipykernel)",
   "language": "python",
   "name": "python3"
  },
  "language_info": {
   "codemirror_mode": {
    "name": "ipython",
    "version": 3
   },
   "file_extension": ".py",
   "mimetype": "text/x-python",
   "name": "python",
   "nbconvert_exporter": "python",
   "pygments_lexer": "ipython3",
   "version": "3.7.4"
  }
 },
 "nbformat": 4,
 "nbformat_minor": 2
}
